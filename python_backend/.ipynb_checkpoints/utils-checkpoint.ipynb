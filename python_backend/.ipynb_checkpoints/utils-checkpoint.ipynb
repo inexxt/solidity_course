{
 "cells": [
  {
   "cell_type": "code",
   "execution_count": 236,
   "metadata": {
    "collapsed": true
   },
   "outputs": [],
   "source": [
    "import json\n",
    "from web3 import Web3\n",
    "\n",
    "tca = lambda x: w3.toChecksumAddress(x)\n",
    "\n",
    "class StateChannel:\n",
    "    \n",
    "    def __init__(self, json_file=\"../project/build/contracts/StateChannel.json\"):\n",
    "\n",
    "        self.w3 = Web3(Web3.HTTPProvider(\"http://127.0.0.1:7545\"))\n",
    "        assert w3.eth.blockNumber\n",
    "    \n",
    "        with open(\"../project/build/contracts/StateChannel.json\", \"r\") as f:\n",
    "            contract_data = json.load(f)\n",
    "            \n",
    "        address = tca(contract_data[\"networks\"][\"5777\"][\"address\"])\n",
    "        \n",
    "        self.contract = self.w3.eth.contract(address=address, abi=contract_data[\"abi\"])\n",
    "        self.owner = tca(self.contract.functions.owner().call())\n",
    "    \n",
    "    def accepting_new_channels(self) -> bool:\n",
    "        return self.contract.functions.accepting_new_channels().call()\n",
    "        \n",
    "    def set_accepting_new_channels(self, val: bool):\n",
    "        transact_params = {\"from\": owner}\n",
    "        fs = self.contract.transact(transact_params).changeAcceptanceStatus(val)\n",
    "        self.w3.eth.waitForTransactionReceipt(fs)\n",
    "        \n",
    "\n",
    "st = StateChannel()\n",
    "st.set_accepting_new_channels(True)\n",
    "assert (st.accepting_new_channels() == True)\n",
    "st.set_accepting_new_channels(False)\n",
    "assert (st.accepting_new_channels() == False)"
   ]
  },
  {
   "cell_type": "code",
   "execution_count": 237,
   "metadata": {},
   "outputs": [],
   "source": [
    "st = StateChannel()\n",
    "owner = st.owner"
   ]
  },
  {
   "cell_type": "code",
   "execution_count": 238,
   "metadata": {
    "collapsed": true
   },
   "outputs": [],
   "source": [
    "one = \"0x0000000000000000000000000000000000000000000000000000000000000001\""
   ]
  },
  {
   "cell_type": "code",
   "execution_count": 239,
   "metadata": {},
   "outputs": [
    {
     "name": "stdout",
     "output_type": "stream",
     "text": [
      "True\n",
      "False\n"
     ]
    }
   ],
   "source": [
    "st.set_accepting_new_channels(True)\n",
    "assert (st.accepting_new_channels() == True)\n",
    "st.set_accepting_new_channels(False)\n",
    "assert (st.accepting_new_channels() == False)"
   ]
  },
  {
   "cell_type": "code",
   "execution_count": 252,
   "metadata": {},
   "outputs": [
    {
     "data": {
      "text/plain": [
       "('0x84115398fd51bedc3a7816257aa4e32a1579d69b6b55b5467563682782cc43ad',\n",
       " '0x61e412ab214ce6116be5d7a38856d20e722d8818bd8a26f2d887632d17dd8214',\n",
       " 28)"
      ]
     },
     "execution_count": 252,
     "metadata": {},
     "output_type": "execute_result"
    }
   ],
   "source": [
    "msg = w3.soliditySha3([\"uint256\", \"uint256\", \"uint256\"], [1, int(owner, 16), 1])\n",
    "signature = w3.eth.sign(owner, msg)\n",
    "\n",
    "signature = signature.hex()\n",
    "\n",
    "r = signature[:66]\n",
    "s = '0x' + signature[66:130]\n",
    "v = '0x' + signature[130:132]\n",
    "v = int(v, 16)\n",
    "v = v if v in [27, 28] else v + 27\n",
    "\n",
    "r,s,v"
   ]
  },
  {
   "cell_type": "code",
   "execution_count": 253,
   "metadata": {
    "collapsed": true
   },
   "outputs": [],
   "source": [
    "cnt = st.contract"
   ]
  },
  {
   "cell_type": "code",
   "execution_count": 254,
   "metadata": {},
   "outputs": [
    {
     "data": {
      "text/plain": [
       "True"
      ]
     },
     "execution_count": 254,
     "metadata": {},
     "output_type": "execute_result"
    }
   ],
   "source": [
    "cnt.functions.verify(msg.hex(), v, r, s).call() == cnt.functions.owner().call()"
   ]
  },
  {
   "cell_type": "code",
   "execution_count": 255,
   "metadata": {
    "scrolled": true
   },
   "outputs": [
    {
     "data": {
      "text/plain": [
       "'fe704115f872a8b8d226e641e5b0852e646662a4dd5505d10e3ff18dda4c6a8b'"
      ]
     },
     "execution_count": 255,
     "metadata": {},
     "output_type": "execute_result"
    }
   ],
   "source": [
    "cnt.functions.hash(1, int(owner, 16), 1).call().hex()"
   ]
  },
  {
   "cell_type": "code",
   "execution_count": 256,
   "metadata": {},
   "outputs": [
    {
     "data": {
      "text/plain": [
       "True"
      ]
     },
     "execution_count": 256,
     "metadata": {},
     "output_type": "execute_result"
    }
   ],
   "source": [
    "cnt.functions.verify_receipt(1, owner, 1, v, r, s).call()"
   ]
  },
  {
   "cell_type": "code",
   "execution_count": 257,
   "metadata": {},
   "outputs": [
    {
     "data": {
      "text/plain": [
       "HexBytes('0xfe704115f872a8b8d226e641e5b0852e646662a4dd5505d10e3ff18dda4c6a8b')"
      ]
     },
     "execution_count": 257,
     "metadata": {},
     "output_type": "execute_result"
    }
   ],
   "source": [
    "msg"
   ]
  },
  {
   "cell_type": "code",
   "execution_count": 258,
   "metadata": {},
   "outputs": [
    {
     "data": {
      "text/plain": [
       "(b'\\x01', b'\\xd1hzb\\x95(0aE\\n\\xc1h\\xf5\\xc0>0\\x9b\\xb9\\xcd\\xc4', b'\\x01')"
      ]
     },
     "execution_count": 258,
     "metadata": {},
     "output_type": "execute_result"
    }
   ],
   "source": [
    "w3.toBytes(1), w3.toBytes(hexstr=owner), w3.toBytes(1)"
   ]
  },
  {
   "cell_type": "code",
   "execution_count": 147,
   "metadata": {},
   "outputs": [
    {
     "data": {
      "text/plain": [
       "str"
      ]
     },
     "execution_count": 147,
     "metadata": {},
     "output_type": "execute_result"
    }
   ],
   "source": []
  },
  {
   "cell_type": "code",
   "execution_count": null,
   "metadata": {
    "collapsed": true
   },
   "outputs": [],
   "source": []
  }
 ],
 "metadata": {
  "kernelspec": {
   "display_name": "Python 3",
   "language": "python",
   "name": "python3"
  },
  "language_info": {
   "codemirror_mode": {
    "name": "ipython",
    "version": 3
   },
   "file_extension": ".py",
   "mimetype": "text/x-python",
   "name": "python",
   "nbconvert_exporter": "python",
   "pygments_lexer": "ipython3",
   "version": "3.6.1"
  }
 },
 "nbformat": 4,
 "nbformat_minor": 2
}
