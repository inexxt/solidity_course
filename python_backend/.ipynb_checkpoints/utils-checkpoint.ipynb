{
 "cells": [
  {
   "cell_type": "code",
   "execution_count": 23,
   "metadata": {
    "collapsed": true
   },
   "outputs": [],
   "source": [
    "import json\n",
    "from web3 import Web3\n",
    "\n",
    "tca = lambda x: w3.toChecksumAddress(x)\n",
    "\n",
    "class StateChannel:\n",
    "    \n",
    "    def __init__(self, json_file=\"../project/build/contracts/StateChannel.json\"):\n",
    "\n",
    "        self.w3 = Web3(Web3.HTTPProvider(\"http://127.0.0.1:7545\"))\n",
    "        assert w3.eth.blockNumber\n",
    "    \n",
    "        # Solidity source code\n",
    "        with open(\"../project/build/contracts/StateChannel.json\", \"r\") as f:\n",
    "            contract_data = json.load(f)\n",
    "            \n",
    "        address = tca(\"0x75eee228e3066316c55df3eea94208d35ce3a1f2\")\n",
    "        \n",
    "        self.contract = self.w3.eth.contract(address=address, abi=contract_data[\"abi\"])\n",
    "        self.owner = tca(self.contract.functions.owner().call())\n",
    "    \n",
    "    def accepting_new_channels(self) -> bool:\n",
    "        return self.contract.functions.accepting_new_channels().call()\n",
    "        \n",
    "    def set_accepting_new_channels(self, val: bool):\n",
    "        transact_params = {\"from\": owner}\n",
    "        fs = self.contract.transact(transact_params).changeAcceptanceStatus(val)\n",
    "        self.w3.eth.waitForTransactionReceipt(fs)"
   ]
  },
  {
   "cell_type": "code",
   "execution_count": 24,
   "metadata": {
    "collapsed": true
   },
   "outputs": [],
   "source": [
    "st = StateChannel()"
   ]
  },
  {
   "cell_type": "code",
   "execution_count": 26,
   "metadata": {},
   "outputs": [],
   "source": [
    "st.set_accepting_new_channels(True)"
   ]
  },
  {
   "cell_type": "code",
   "execution_count": 28,
   "metadata": {},
   "outputs": [
    {
     "data": {
      "text/plain": [
       "True"
      ]
     },
     "execution_count": 28,
     "metadata": {},
     "output_type": "execute_result"
    }
   ],
   "source": [
    "st.accepting_new_channels()"
   ]
  },
  {
   "cell_type": "code",
   "execution_count": null,
   "metadata": {
    "collapsed": true
   },
   "outputs": [],
   "source": []
  }
 ],
 "metadata": {
  "kernelspec": {
   "display_name": "Python 3",
   "language": "python",
   "name": "python3"
  },
  "language_info": {
   "codemirror_mode": {
    "name": "ipython",
    "version": 3
   },
   "file_extension": ".py",
   "mimetype": "text/x-python",
   "name": "python",
   "nbconvert_exporter": "python",
   "pygments_lexer": "ipython3",
   "version": "3.6.1"
  }
 },
 "nbformat": 4,
 "nbformat_minor": 2
}
