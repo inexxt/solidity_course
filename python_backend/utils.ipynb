{
 "cells": [
  {
   "cell_type": "code",
   "execution_count": 29,
   "metadata": {
    "collapsed": true
   },
   "outputs": [],
   "source": [
    "import json\n",
    "from web3 import Web3\n",
    "\n",
    "tca = lambda x: w3.toChecksumAddress(x)\n",
    "\n",
    "class StateChannel:\n",
    "    \n",
    "    def __init__(self, json_file=\"../project/build/contracts/StateChannel.json\"):\n",
    "\n",
    "        self.w3 = Web3(Web3.HTTPProvider(\"http://127.0.0.1:7545\"))\n",
    "        assert w3.eth.blockNumber\n",
    "    \n",
    "        # Solidity source code\n",
    "        with open(\"../project/build/contracts/StateChannel.json\", \"r\") as f:\n",
    "            contract_data = json.load(f)\n",
    "            \n",
    "        address = tca(contract_data[\"networks\"][\"5777\"][\"address\"])\n",
    "        \n",
    "        self.contract = self.w3.eth.contract(address=address, abi=contract_data[\"abi\"])\n",
    "        self.owner = tca(self.contract.functions.owner().call())\n",
    "    \n",
    "    def accepting_new_channels(self) -> bool:\n",
    "        return self.contract.functions.accepting_new_channels().call()\n",
    "        \n",
    "    def set_accepting_new_channels(self, val: bool):\n",
    "        transact_params = {\"from\": owner}\n",
    "        fs = self.contract.transact(transact_params).changeAcceptanceStatus(val)\n",
    "        self.w3.eth.waitForTransactionReceipt(fs)\n",
    "        \n",
    "    "
   ]
  },
  {
   "cell_type": "code",
   "execution_count": 44,
   "metadata": {
    "collapsed": true
   },
   "outputs": [],
   "source": [
    "st = StateChannel()\n",
    "owner = st.owner"
   ]
  },
  {
   "cell_type": "code",
   "execution_count": 46,
   "metadata": {
    "collapsed": true
   },
   "outputs": [],
   "source": [
    "one = \"0x0000000000000000000000000000000000000000000000000000000000000001\""
   ]
  },
  {
   "cell_type": "code",
   "execution_count": 45,
   "metadata": {},
   "outputs": [
    {
     "name": "stdout",
     "output_type": "stream",
     "text": [
      "True\n",
      "False\n"
     ]
    }
   ],
   "source": [
    "st.set_accepting_new_channels(True)\n",
    "print(st.accepting_new_channels())\n",
    "st.set_accepting_new_channels(False)\n",
    "print(st.accepting_new_channels())"
   ]
  },
  {
   "cell_type": "code",
   "execution_count": 47,
   "metadata": {},
   "outputs": [
    {
     "data": {
      "text/plain": [
       "('0x0e22082048b05d088ff506e206c8b162e569ac10953728d7aac9935a8a43d6ba',\n",
       " '0x1be21f39fd2d0782492fa809ef80f85a88de7700076103d13b0ff9264b7d4245',\n",
       " 27)"
      ]
     },
     "execution_count": 47,
     "metadata": {},
     "output_type": "execute_result"
    }
   ],
   "source": [
    "msg = w3.sha3(text=one + owner + one)\n",
    "signature = w3.eth.sign(owner, msg)\n",
    "\n",
    "signature = signature.hex()\n",
    "\n",
    "r = signature[:66]\n",
    "s = '0x' + signature[66:130]\n",
    "v = '0x' + signature[130:132]\n",
    "v = int(v, 16)\n",
    "v = v if v in [27, 28] else v + 27\n",
    "\n",
    "r,s,v"
   ]
  },
  {
   "cell_type": "code",
   "execution_count": 48,
   "metadata": {
    "collapsed": true
   },
   "outputs": [],
   "source": [
    "cnt = st.contract"
   ]
  },
  {
   "cell_type": "code",
   "execution_count": 49,
   "metadata": {},
   "outputs": [
    {
     "data": {
      "text/plain": [
       "True"
      ]
     },
     "execution_count": 49,
     "metadata": {},
     "output_type": "execute_result"
    }
   ],
   "source": [
    "cnt.functions.verify(msg.hex(), v, r, s).call() == cnt.functions.owner().call()"
   ]
  },
  {
   "cell_type": "code",
   "execution_count": 52,
   "metadata": {},
   "outputs": [
    {
     "data": {
      "text/plain": [
       "False"
      ]
     },
     "execution_count": 52,
     "metadata": {},
     "output_type": "execute_result"
    }
   ],
   "source": [
    "cnt.functions.verify_receipt(1, owner, 1, v, r, s).call()"
   ]
  },
  {
   "cell_type": "code",
   "execution_count": null,
   "metadata": {
    "collapsed": true
   },
   "outputs": [],
   "source": []
  }
 ],
 "metadata": {
  "kernelspec": {
   "display_name": "Python 3",
   "language": "python",
   "name": "python3"
  },
  "language_info": {
   "codemirror_mode": {
    "name": "ipython",
    "version": 3
   },
   "file_extension": ".py",
   "mimetype": "text/x-python",
   "name": "python",
   "nbconvert_exporter": "python",
   "pygments_lexer": "ipython3",
   "version": "3.6.1"
  }
 },
 "nbformat": 4,
 "nbformat_minor": 2
}
