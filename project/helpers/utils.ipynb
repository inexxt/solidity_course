{
 "cells": [
  {
   "cell_type": "code",
   "execution_count": 326,
   "metadata": {
    "collapsed": true
   },
   "outputs": [],
   "source": [
    "import json\n",
    "from web3 import Web3\n",
    "from collections import defaultdict\n",
    "\n",
    "tca = lambda x: w3.toChecksumAddress(x)\n",
    "\n",
    "\n",
    "class StateChannelBackend:\n",
    "    \n",
    "    def __init__(self):    \n",
    "        with open(\"../project/build/contracts/StateChannel.json\", \"r\") as f:\n",
    "            contract_data = json.load(f)\n",
    "            \n",
    "        address = tca(contract_data[\"networks\"][\"5777\"][\"address\"])\n",
    "        \n",
    "        self.contract = w3.eth.contract(address=address, abi=contract_data[\"abi\"])\n",
    "        self.owner = tca(self.contract.functions.owner().call())\n",
    "        self.receipts = defaultdict(defaultdict)\n",
    "\n",
    "    def accepting_new_channels(self) -> bool:\n",
    "        return self.contract.functions.accepting_new_channels().call()\n",
    "    \n",
    "    def _transact_contract(self, method, t_params: dict):\n",
    "        fs = method.transact(t_params)\n",
    "        w3.eth.waitForTransactionReceipt(fs)\n",
    "    \n",
    "    def set_accepting_new_channels(self, val: bool):\n",
    "        transact_params = {\"from\": self.owner}\n",
    "        self._transact_contract(self.contract.functions.changeAcceptanceStatus(val), transact_params)\n",
    "\n",
    "    def receiveReceipt(self, receipt):\n",
    "        r = Receipt(**receipt)\n",
    "        resp = self.contract.functions.verify_receipt(receipt.allowed_funds, \n",
    "                                                      receipt.account, \n",
    "                                                      receipt.channel_number, \n",
    "                                                      v, r, s).call()\n",
    "        if not resp:\n",
    "            return False\n",
    "        \n",
    "        self.receipts[receipt.account][receipt.channel_number] = receipt\n",
    "        return True\n"
   ]
  },
  {
   "cell_type": "code",
   "execution_count": 327,
   "metadata": {},
   "outputs": [],
   "source": [
    "st = StateChannelBackend()\n",
    "st.set_accepting_new_channels(True)\n",
    "assert (st.accepting_new_channels() == True)\n",
    "# st.set_accepting_new_channels(False)\n",
    "# assert (st.accepting_new_channels() == False)"
   ]
  },
  {
   "cell_type": "code",
   "execution_count": 329,
   "metadata": {},
   "outputs": [
    {
     "data": {
      "text/plain": [
       "'0xd1687a6295283061450ac168f5C03e309BB9CDc4'"
      ]
     },
     "execution_count": 329,
     "metadata": {},
     "output_type": "execute_result"
    }
   ],
   "source": [
    "st.owner"
   ]
  },
  {
   "cell_type": "code",
   "execution_count": 322,
   "metadata": {},
   "outputs": [
    {
     "data": {
      "text/plain": [
       "True"
      ]
     },
     "execution_count": 322,
     "metadata": {},
     "output_type": "execute_result"
    }
   ],
   "source": [
    "w3.eth.getBalance(st.owner) > 9000000000000000000"
   ]
  },
  {
   "cell_type": "code",
   "execution_count": 323,
   "metadata": {
    "scrolled": true
   },
   "outputs": [
    {
     "data": {
      "text/plain": [
       "1000000000000000000"
      ]
     },
     "execution_count": 323,
     "metadata": {},
     "output_type": "execute_result"
    }
   ],
   "source": [
    "punishment = st.contract.functions.PUNISHMENT().call()\n",
    "punishment"
   ]
  },
  {
   "cell_type": "code",
   "execution_count": 328,
   "metadata": {
    "scrolled": true
   },
   "outputs": [
    {
     "data": {
      "text/plain": [
       "HexBytes('0x941a617507e0c7132e2bd86df55507313ab00dee881499a00663f352ffa1e189')"
      ]
     },
     "execution_count": 328,
     "metadata": {},
     "output_type": "execute_result"
    }
   ],
   "source": [
    "assert (st.accepting_new_channels() == True)\n",
    "st.contract.functions.createNewChannel(1000000000000000000).transact({\"from\": st.owner, \n",
    "                                                                     \"value\": 1000000000000000000 + punishment})"
   ]
  },
  {
   "cell_type": "code",
   "execution_count": 306,
   "metadata": {
    "collapsed": true
   },
   "outputs": [],
   "source": [
    "err = \"{'message': 'VM Exception while processing transaction: revert', 'code': -32000, 'data': {'stack': 'Error\\n    at Function.c.fromResults (/tmp/.mount_ganachrwhBTn/app/resources/app.asar/node_modules/ganache-cli/build/webpack:/ganache/node_modules/rustbn.js/index.js:3:1)\\n    at /tmp/.mount_ganachrwhBTn/app/resources/app.asar/node_modules/ganache-cli/build/webpack:/ganache/node_modules/ganache-core/lib/blockchain_double.js:491:1\\n    at /tmp/.mount_ganachrwhBTn/app/resources/app.asar/node_modules/ganache-cli/build/webpack:/ganache/node_modules/ethereumjs-vm/lib/runBlock.js:7:1\\n    at /tmp/.mount_ganachrwhBTn/app/resources/app.asar/node_modules/ganache-cli/build/webpack:/ganache/node_modules/async/dist/async.js:4080:1\\n    at /tmp/.mount_ganachrwhBTn/app/resources/app.asar/node_modules/ganache-cli/build/webpack:/ganache/node_modules/async/dist/async.js:480:1\\n    at o (/tmp/.mount_ganachrwhBTn/app/resources/app.asar/node_modules/ganache-cli/build/webpack:/ganache/node_modules/async/dist/async.js:1030:1)\\n    at f (/tmp/.mount_ganachrwhBTn/app/resources/app.asar/node_modules/ganache-cli/build/webpack:/ganache/node_modules/async/dist/async.js:998:1)\\n    at /tmp/.mount_ganachrwhBTn/app/resources/app.asar/node_modules/ganache-cli/build/webpack:/ganache/node_modules/async/dist/async.js:966:1\\n    at /tmp/.mount_ganachrwhBTn/app/resources/app.asar/node_modules/ganache-cli/build/webpack:/ganache/node_modules/async/dist/async.js:4079:1\\n    at /tmp/.mount_ganachrwhBTn/app/resources/app.asar/node_modules/ganache-cli/build/webpack:/ganache/node_modules/async/internal/eachOfLimit.js:3:1\\n    at l (/tmp/.mount_ganachrwhBTn/app/resources/app.asar/node_modules/ganache-cli/build/webpack:/ganache/node_modules/async/internal/eachOfLimit.js:16:1)\\n    at /tmp/.mount_ganachrwhBTn/app/resources/app.asar/node_modules/ganache-cli/build/webpack:/ganache/node_modules/async/internal/eachOfLimit.js:28:39\\n    at t.default (/tmp/.mount_ganachrwhBTn/app/resources/app.asar/node_modules/ganache-cli/build/webpack:/ganache/node_modules/async/eachLimit.js:20:1)\\n    at /tmp/.mount_ganachrwhBTn/app/resources/app.asar/node_modules/ganache-cli/build/webpack:/ganache/node_modules/async/internal/slice.js:3:1\\n    at g.n.emit (/tmp/.mount_ganachrwhBTn/app/resources/app.asar/node_modules/ganache-cli/build/webpack:/ganache/node_modules/async-eventemitter/lib/AsyncEventEmitter.js:58:1)\\n    at /tmp/.mount_ganachrwhBTn/app/resources/app.asar/node_modules/ganache-cli/build/webpack:/ganache/node_modules/ethereumjs-vm/lib/runBlock.js:3:1\\n    at /tmp/.mount_ganachrwhBTn/app/resources/app.asar/node_modules/ganache-cli/build/webpack:/ganache/node_modules/async/dist/async.js:3947:1\\n    at o (/tmp/.mount_ganachrwhBTn/app/resources/app.asar/node_modules/ganache-cli/build/webpack:/ganache/node_modules/async/dist/async.js:1031:1)\\n    at f (/tmp/.mount_ganachrwhBTn/app/resources/app.asar/node_modules/ganache-cli/build/webpack:/ganache/node_modules/async/dist/async.js:998:1)\\n    at /tmp/.mount_ganachrwhBTn/app/resources/app.asar/node_modules/ganache-cli/build/webpack:/ganache/node_modules/async/dist/async.js:966:1\\n    at /tmp/.mount_ganachrwhBTn/app/resources/app.asar/node_modules/ganache-cli/build/webpack:/ganache/node_modules/async/dist/async.js:4079:1\\n    at /tmp/.mount_ganachrwhBTn/app/resources/app.asar/node_modules/ganache-cli/build/webpack:/ganache/node_modules/ethereumjs-vm/lib/runBlock.js:1:1\\n    at /tmp/.mount_ganachrwhBTn/app/resources/app.asar/node_modules/ganache-cli/build/webpack:/ganache/node_modules/ethereumjs-vm/lib/cache.js:117:1\\n    at /tmp/.mount_ganachrwhBTn/app/resources/app.asar/node_modules/ganache-cli/build/webpack:/ganache/node_modules/async/dist/async.js:480:1\\n    at o (/tmp/.mount_ganachrwhBTn/app/resources/app.asar/node_modules/ganache-cli/build/webpack:/ganache/node_modules/async/dist/async.js:1030:1)\\n    at /tmp/.mount_ganachrwhBTn/app/resources/app.asar/node_modules/ganache-cli/build/webpack:/ganache/node_modules/async/dist/async.js:1032:1\\n    at Ut (/tmp/.mount_ganachrwhBTn/app/resources/app.asar/node_modules/ganache-cli/build/webpack:/ganache/node_modules/async/dist/async.js:3245:1)\\n    at Object.<anonymous> (/tmp/.mount_ganachrwhBTn/app/resources/app.asar/node_modules/ganache-cli/build/webpack:/ganache/node_modules/async/dist/async.js:1049:10)\\n    at /tmp/.mount_ganachrwhBTn/app/resources/app.asar/node_modules/ganache-cli/build/webpack:/ganache/node_modules/ethereumjs-vm/lib/cache.js:113:1\\n    at /tmp/.mount_ganachrwhBTn/app/resources/app.asar/node_modules/ganache-cli/build/webpack:/ganache/node_modules/async/dist/async.js:966:1\\n    at c (/tmp/.mount_ganachrwhBTn/app/resources/app.asar/node_modules/ganache-cli/build/webpack:/ganache/node_modules/async/dist/async.js:5240:1)\\n    at /tmp/.mount_ganachrwhBTn/app/resources/app.asar/node_modules/ganache-cli/build/webpack:/ganache/node_modules/ethereumjs-vm/lib/cache.js:107:1\\n    at c (/tmp/.mount_ganachrwhBTn/app/resources/app.asar/node_modules/ganache-cli/build/webpack:/ganache/node_modules/async/dist/async.js:5239:1)\\n    at /tmp/.mount_ganachrwhBTn/app/resources/app.asar/node_modules/ganache-cli/build/webpack:/ganache/node_modules/ethereumjs-vm/lib/cache.js:105:1', 'name': 'c'}}\""
   ]
  },
  {
   "cell_type": "code",
   "execution_count": 330,
   "metadata": {},
   "outputs": [],
   "source": [
    "st = StateChannel()\n",
    "owner = st.owner"
   ]
  },
  {
   "cell_type": "code",
   "execution_count": 336,
   "metadata": {
    "collapsed": true
   },
   "outputs": [],
   "source": [
    "acc = \"0xE58ea859e7DE7EaB1328A730CB397d9597F5aDC6\""
   ]
  },
  {
   "cell_type": "code",
   "execution_count": 345,
   "metadata": {},
   "outputs": [
    {
     "ename": "ValueError",
     "evalue": "{'message': 'VM Exception while processing transaction: revert', 'code': -32000, 'data': {'stack': 'Error\\n    at Function.c.fromResults (/tmp/.mount_ganachrwhBTn/app/resources/app.asar/node_modules/ganache-cli/build/webpack:/ganache/node_modules/rustbn.js/index.js:3:1)\\n    at /tmp/.mount_ganachrwhBTn/app/resources/app.asar/node_modules/ganache-cli/build/webpack:/ganache/node_modules/ganache-core/lib/blockchain_double.js:491:1\\n    at /tmp/.mount_ganachrwhBTn/app/resources/app.asar/node_modules/ganache-cli/build/webpack:/ganache/node_modules/ethereumjs-vm/lib/runBlock.js:7:1\\n    at /tmp/.mount_ganachrwhBTn/app/resources/app.asar/node_modules/ganache-cli/build/webpack:/ganache/node_modules/async/dist/async.js:4080:1\\n    at /tmp/.mount_ganachrwhBTn/app/resources/app.asar/node_modules/ganache-cli/build/webpack:/ganache/node_modules/async/dist/async.js:480:1\\n    at o (/tmp/.mount_ganachrwhBTn/app/resources/app.asar/node_modules/ganache-cli/build/webpack:/ganache/node_modules/async/dist/async.js:1030:1)\\n    at f (/tmp/.mount_ganachrwhBTn/app/resources/app.asar/node_modules/ganache-cli/build/webpack:/ganache/node_modules/async/dist/async.js:998:1)\\n    at /tmp/.mount_ganachrwhBTn/app/resources/app.asar/node_modules/ganache-cli/build/webpack:/ganache/node_modules/async/dist/async.js:966:1\\n    at /tmp/.mount_ganachrwhBTn/app/resources/app.asar/node_modules/ganache-cli/build/webpack:/ganache/node_modules/async/dist/async.js:4079:1\\n    at /tmp/.mount_ganachrwhBTn/app/resources/app.asar/node_modules/ganache-cli/build/webpack:/ganache/node_modules/async/internal/eachOfLimit.js:3:1\\n    at l (/tmp/.mount_ganachrwhBTn/app/resources/app.asar/node_modules/ganache-cli/build/webpack:/ganache/node_modules/async/internal/eachOfLimit.js:16:1)\\n    at /tmp/.mount_ganachrwhBTn/app/resources/app.asar/node_modules/ganache-cli/build/webpack:/ganache/node_modules/async/internal/eachOfLimit.js:28:39\\n    at t.default (/tmp/.mount_ganachrwhBTn/app/resources/app.asar/node_modules/ganache-cli/build/webpack:/ganache/node_modules/async/eachLimit.js:20:1)\\n    at /tmp/.mount_ganachrwhBTn/app/resources/app.asar/node_modules/ganache-cli/build/webpack:/ganache/node_modules/async/internal/slice.js:3:1\\n    at g.n.emit (/tmp/.mount_ganachrwhBTn/app/resources/app.asar/node_modules/ganache-cli/build/webpack:/ganache/node_modules/async-eventemitter/lib/AsyncEventEmitter.js:58:1)\\n    at /tmp/.mount_ganachrwhBTn/app/resources/app.asar/node_modules/ganache-cli/build/webpack:/ganache/node_modules/ethereumjs-vm/lib/runBlock.js:3:1\\n    at /tmp/.mount_ganachrwhBTn/app/resources/app.asar/node_modules/ganache-cli/build/webpack:/ganache/node_modules/async/dist/async.js:3947:1\\n    at o (/tmp/.mount_ganachrwhBTn/app/resources/app.asar/node_modules/ganache-cli/build/webpack:/ganache/node_modules/async/dist/async.js:1031:1)\\n    at f (/tmp/.mount_ganachrwhBTn/app/resources/app.asar/node_modules/ganache-cli/build/webpack:/ganache/node_modules/async/dist/async.js:998:1)\\n    at /tmp/.mount_ganachrwhBTn/app/resources/app.asar/node_modules/ganache-cli/build/webpack:/ganache/node_modules/async/dist/async.js:966:1\\n    at /tmp/.mount_ganachrwhBTn/app/resources/app.asar/node_modules/ganache-cli/build/webpack:/ganache/node_modules/async/dist/async.js:4079:1\\n    at /tmp/.mount_ganachrwhBTn/app/resources/app.asar/node_modules/ganache-cli/build/webpack:/ganache/node_modules/ethereumjs-vm/lib/runBlock.js:1:1\\n    at /tmp/.mount_ganachrwhBTn/app/resources/app.asar/node_modules/ganache-cli/build/webpack:/ganache/node_modules/ethereumjs-vm/lib/cache.js:117:1\\n    at /tmp/.mount_ganachrwhBTn/app/resources/app.asar/node_modules/ganache-cli/build/webpack:/ganache/node_modules/async/dist/async.js:480:1\\n    at o (/tmp/.mount_ganachrwhBTn/app/resources/app.asar/node_modules/ganache-cli/build/webpack:/ganache/node_modules/async/dist/async.js:1030:1)\\n    at /tmp/.mount_ganachrwhBTn/app/resources/app.asar/node_modules/ganache-cli/build/webpack:/ganache/node_modules/async/dist/async.js:1032:1\\n    at Ut (/tmp/.mount_ganachrwhBTn/app/resources/app.asar/node_modules/ganache-cli/build/webpack:/ganache/node_modules/async/dist/async.js:3245:1)\\n    at Object.<anonymous> (/tmp/.mount_ganachrwhBTn/app/resources/app.asar/node_modules/ganache-cli/build/webpack:/ganache/node_modules/async/dist/async.js:1049:10)\\n    at /tmp/.mount_ganachrwhBTn/app/resources/app.asar/node_modules/ganache-cli/build/webpack:/ganache/node_modules/ethereumjs-vm/lib/cache.js:113:1\\n    at /tmp/.mount_ganachrwhBTn/app/resources/app.asar/node_modules/ganache-cli/build/webpack:/ganache/node_modules/async/dist/async.js:966:1\\n    at c (/tmp/.mount_ganachrwhBTn/app/resources/app.asar/node_modules/ganache-cli/build/webpack:/ganache/node_modules/async/dist/async.js:5240:1)\\n    at /tmp/.mount_ganachrwhBTn/app/resources/app.asar/node_modules/ganache-cli/build/webpack:/ganache/node_modules/ethereumjs-vm/lib/cache.js:105:1\\n    at /tmp/.mount_ganachrwhBTn/app/resources/app.asar/node_modules/ganache-cli/build/webpack:/ganache/node_modules/merkle-patricia-tree/util.js:64:1\\n    at /tmp/.mount_ganachrwhBTn/app/resources/app.asar/node_modules/ganache-cli/build/webpack:/ganache/node_modules/merkle-patricia-tree/node_modules/async/lib/async.js:38:1', 'name': 'c'}}",
     "output_type": "error",
     "traceback": [
      "\u001b[0;31m------------------------------------------------------------------------\u001b[0m",
      "\u001b[0;31mValueError\u001b[0m                             Traceback (most recent call last)",
      "\u001b[0;32m<ipython-input-345-ee107ad998fb>\u001b[0m in \u001b[0;36m<module>\u001b[0;34m()\u001b[0m\n\u001b[1;32m     12\u001b[0m \u001b[0mr\u001b[0m\u001b[0;34m,\u001b[0m\u001b[0ms\u001b[0m\u001b[0;34m,\u001b[0m\u001b[0mv\u001b[0m\u001b[0;34m\u001b[0m\u001b[0m\n\u001b[1;32m     13\u001b[0m \u001b[0;34m\u001b[0m\u001b[0m\n\u001b[0;32m---> 14\u001b[0;31m \u001b[0mst\u001b[0m\u001b[0;34m.\u001b[0m\u001b[0mcontract\u001b[0m\u001b[0;34m.\u001b[0m\u001b[0mfunctions\u001b[0m\u001b[0;34m.\u001b[0m\u001b[0mverify_receipt\u001b[0m\u001b[0;34m(\u001b[0m\u001b[0;36m4\u001b[0m\u001b[0;34m,\u001b[0m \u001b[0macc\u001b[0m\u001b[0;34m,\u001b[0m \u001b[0;36m4\u001b[0m\u001b[0;34m,\u001b[0m \u001b[0mv\u001b[0m\u001b[0;34m,\u001b[0m \u001b[0mr\u001b[0m\u001b[0;34m,\u001b[0m \u001b[0ms\u001b[0m\u001b[0;34m)\u001b[0m\u001b[0;34m.\u001b[0m\u001b[0mcall\u001b[0m\u001b[0;34m(\u001b[0m\u001b[0;34m)\u001b[0m\u001b[0;34m\u001b[0m\u001b[0m\n\u001b[0m",
      "\u001b[0;32m/home/jack/anaconda3/lib/python3.6/site-packages/web3/contract.py\u001b[0m in \u001b[0;36mcall\u001b[0;34m(self, transaction, block_identifier)\u001b[0m\n\u001b[1;32m   1029\u001b[0m                                       \u001b[0mblock_id\u001b[0m\u001b[0;34m,\u001b[0m\u001b[0;34m\u001b[0m\u001b[0m\n\u001b[1;32m   1030\u001b[0m                                       \u001b[0;34m*\u001b[0m\u001b[0mself\u001b[0m\u001b[0;34m.\u001b[0m\u001b[0margs\u001b[0m\u001b[0;34m,\u001b[0m\u001b[0;34m\u001b[0m\u001b[0m\n\u001b[0;32m-> 1031\u001b[0;31m                                       **self.kwargs)\n\u001b[0m\u001b[1;32m   1032\u001b[0m \u001b[0;34m\u001b[0m\u001b[0m\n\u001b[1;32m   1033\u001b[0m     \u001b[0;32mdef\u001b[0m \u001b[0mtransact\u001b[0m\u001b[0;34m(\u001b[0m\u001b[0mself\u001b[0m\u001b[0;34m,\u001b[0m \u001b[0mtransaction\u001b[0m\u001b[0;34m=\u001b[0m\u001b[0;32mNone\u001b[0m\u001b[0;34m)\u001b[0m\u001b[0;34m:\u001b[0m\u001b[0;34m\u001b[0m\u001b[0m\n",
      "\u001b[0;32m/home/jack/anaconda3/lib/python3.6/site-packages/web3/contract.py\u001b[0m in \u001b[0;36mcall_contract_function\u001b[0;34m(abi, web3, address, normalizers, function_identifier, transaction, block_id, *args, **kwargs)\u001b[0m\n\u001b[1;32m   1260\u001b[0m         \u001b[0mreturn_data\u001b[0m \u001b[0;34m=\u001b[0m \u001b[0mweb3\u001b[0m\u001b[0;34m.\u001b[0m\u001b[0meth\u001b[0m\u001b[0;34m.\u001b[0m\u001b[0mcall\u001b[0m\u001b[0;34m(\u001b[0m\u001b[0mcall_transaction\u001b[0m\u001b[0;34m)\u001b[0m\u001b[0;34m\u001b[0m\u001b[0m\n\u001b[1;32m   1261\u001b[0m     \u001b[0;32melse\u001b[0m\u001b[0;34m:\u001b[0m\u001b[0;34m\u001b[0m\u001b[0m\n\u001b[0;32m-> 1262\u001b[0;31m         \u001b[0mreturn_data\u001b[0m \u001b[0;34m=\u001b[0m \u001b[0mweb3\u001b[0m\u001b[0;34m.\u001b[0m\u001b[0meth\u001b[0m\u001b[0;34m.\u001b[0m\u001b[0mcall\u001b[0m\u001b[0;34m(\u001b[0m\u001b[0mcall_transaction\u001b[0m\u001b[0;34m,\u001b[0m \u001b[0mblock_identifier\u001b[0m\u001b[0;34m=\u001b[0m\u001b[0mblock_id\u001b[0m\u001b[0;34m)\u001b[0m\u001b[0;34m\u001b[0m\u001b[0m\n\u001b[0m\u001b[1;32m   1263\u001b[0m \u001b[0;34m\u001b[0m\u001b[0m\n\u001b[1;32m   1264\u001b[0m     \u001b[0mfunction_abi\u001b[0m \u001b[0;34m=\u001b[0m \u001b[0mfind_matching_fn_abi\u001b[0m\u001b[0;34m(\u001b[0m\u001b[0mabi\u001b[0m\u001b[0;34m,\u001b[0m \u001b[0mfunction_identifier\u001b[0m\u001b[0;34m,\u001b[0m \u001b[0margs\u001b[0m\u001b[0;34m,\u001b[0m \u001b[0mkwargs\u001b[0m\u001b[0;34m)\u001b[0m\u001b[0;34m\u001b[0m\u001b[0m\n",
      "\u001b[0;32m/home/jack/anaconda3/lib/python3.6/site-packages/eth_utils/functional.py\u001b[0m in \u001b[0;36minner\u001b[0;34m(*args, **kwargs)\u001b[0m\n\u001b[1;32m     20\u001b[0m         \u001b[0;34m@\u001b[0m\u001b[0mfunctools\u001b[0m\u001b[0;34m.\u001b[0m\u001b[0mwraps\u001b[0m\u001b[0;34m(\u001b[0m\u001b[0mfn\u001b[0m\u001b[0;34m)\u001b[0m\u001b[0;34m\u001b[0m\u001b[0m\n\u001b[1;32m     21\u001b[0m         \u001b[0;32mdef\u001b[0m \u001b[0minner\u001b[0m\u001b[0;34m(\u001b[0m\u001b[0;34m*\u001b[0m\u001b[0margs\u001b[0m\u001b[0;34m,\u001b[0m \u001b[0;34m**\u001b[0m\u001b[0mkwargs\u001b[0m\u001b[0;34m)\u001b[0m\u001b[0;34m:\u001b[0m\u001b[0;34m\u001b[0m\u001b[0m\n\u001b[0;32m---> 22\u001b[0;31m             \u001b[0;32mreturn\u001b[0m \u001b[0mcallback\u001b[0m\u001b[0;34m(\u001b[0m\u001b[0mfn\u001b[0m\u001b[0;34m(\u001b[0m\u001b[0;34m*\u001b[0m\u001b[0margs\u001b[0m\u001b[0;34m,\u001b[0m \u001b[0;34m**\u001b[0m\u001b[0mkwargs\u001b[0m\u001b[0;34m)\u001b[0m\u001b[0;34m)\u001b[0m\u001b[0;34m\u001b[0m\u001b[0m\n\u001b[0m\u001b[1;32m     23\u001b[0m \u001b[0;34m\u001b[0m\u001b[0m\n\u001b[1;32m     24\u001b[0m         \u001b[0;32mreturn\u001b[0m \u001b[0minner\u001b[0m\u001b[0;34m\u001b[0m\u001b[0m\n",
      "\u001b[0;32m/home/jack/anaconda3/lib/python3.6/site-packages/web3/eth.py\u001b[0m in \u001b[0;36mcall\u001b[0;34m(self, transaction, block_identifier)\u001b[0m\n\u001b[1;32m    268\u001b[0m         return self.web3.manager.request_blocking(\n\u001b[1;32m    269\u001b[0m             \u001b[0;34m\"eth_call\"\u001b[0m\u001b[0;34m,\u001b[0m\u001b[0;34m\u001b[0m\u001b[0m\n\u001b[0;32m--> 270\u001b[0;31m             \u001b[0;34m[\u001b[0m\u001b[0mtransaction\u001b[0m\u001b[0;34m,\u001b[0m \u001b[0mblock_identifier\u001b[0m\u001b[0;34m]\u001b[0m\u001b[0;34m,\u001b[0m\u001b[0;34m\u001b[0m\u001b[0m\n\u001b[0m\u001b[1;32m    271\u001b[0m         )\n\u001b[1;32m    272\u001b[0m \u001b[0;34m\u001b[0m\u001b[0m\n",
      "\u001b[0;32m/home/jack/anaconda3/lib/python3.6/site-packages/web3/manager.py\u001b[0m in \u001b[0;36mrequest_blocking\u001b[0;34m(self, method, params)\u001b[0m\n\u001b[1;32m    104\u001b[0m \u001b[0;34m\u001b[0m\u001b[0m\n\u001b[1;32m    105\u001b[0m         \u001b[0;32mif\u001b[0m \u001b[0;34m\"error\"\u001b[0m \u001b[0;32min\u001b[0m \u001b[0mresponse\u001b[0m\u001b[0;34m:\u001b[0m\u001b[0;34m\u001b[0m\u001b[0m\n\u001b[0;32m--> 106\u001b[0;31m             \u001b[0;32mraise\u001b[0m \u001b[0mValueError\u001b[0m\u001b[0;34m(\u001b[0m\u001b[0mresponse\u001b[0m\u001b[0;34m[\u001b[0m\u001b[0;34m\"error\"\u001b[0m\u001b[0;34m]\u001b[0m\u001b[0;34m)\u001b[0m\u001b[0;34m\u001b[0m\u001b[0m\n\u001b[0m\u001b[1;32m    107\u001b[0m \u001b[0;34m\u001b[0m\u001b[0m\n\u001b[1;32m    108\u001b[0m         \u001b[0;32mreturn\u001b[0m \u001b[0mresponse\u001b[0m\u001b[0;34m[\u001b[0m\u001b[0;34m'result'\u001b[0m\u001b[0;34m]\u001b[0m\u001b[0;34m\u001b[0m\u001b[0m\n",
      "\u001b[0;31mValueError\u001b[0m: {'message': 'VM Exception while processing transaction: revert', 'code': -32000, 'data': {'stack': 'Error\\n    at Function.c.fromResults (/tmp/.mount_ganachrwhBTn/app/resources/app.asar/node_modules/ganache-cli/build/webpack:/ganache/node_modules/rustbn.js/index.js:3:1)\\n    at /tmp/.mount_ganachrwhBTn/app/resources/app.asar/node_modules/ganache-cli/build/webpack:/ganache/node_modules/ganache-core/lib/blockchain_double.js:491:1\\n    at /tmp/.mount_ganachrwhBTn/app/resources/app.asar/node_modules/ganache-cli/build/webpack:/ganache/node_modules/ethereumjs-vm/lib/runBlock.js:7:1\\n    at /tmp/.mount_ganachrwhBTn/app/resources/app.asar/node_modules/ganache-cli/build/webpack:/ganache/node_modules/async/dist/async.js:4080:1\\n    at /tmp/.mount_ganachrwhBTn/app/resources/app.asar/node_modules/ganache-cli/build/webpack:/ganache/node_modules/async/dist/async.js:480:1\\n    at o (/tmp/.mount_ganachrwhBTn/app/resources/app.asar/node_modules/ganache-cli/build/webpack:/ganache/node_modules/async/dist/async.js:1030:1)\\n    at f (/tmp/.mount_ganachrwhBTn/app/resources/app.asar/node_modules/ganache-cli/build/webpack:/ganache/node_modules/async/dist/async.js:998:1)\\n    at /tmp/.mount_ganachrwhBTn/app/resources/app.asar/node_modules/ganache-cli/build/webpack:/ganache/node_modules/async/dist/async.js:966:1\\n    at /tmp/.mount_ganachrwhBTn/app/resources/app.asar/node_modules/ganache-cli/build/webpack:/ganache/node_modules/async/dist/async.js:4079:1\\n    at /tmp/.mount_ganachrwhBTn/app/resources/app.asar/node_modules/ganache-cli/build/webpack:/ganache/node_modules/async/internal/eachOfLimit.js:3:1\\n    at l (/tmp/.mount_ganachrwhBTn/app/resources/app.asar/node_modules/ganache-cli/build/webpack:/ganache/node_modules/async/internal/eachOfLimit.js:16:1)\\n    at /tmp/.mount_ganachrwhBTn/app/resources/app.asar/node_modules/ganache-cli/build/webpack:/ganache/node_modules/async/internal/eachOfLimit.js:28:39\\n    at t.default (/tmp/.mount_ganachrwhBTn/app/resources/app.asar/node_modules/ganache-cli/build/webpack:/ganache/node_modules/async/eachLimit.js:20:1)\\n    at /tmp/.mount_ganachrwhBTn/app/resources/app.asar/node_modules/ganache-cli/build/webpack:/ganache/node_modules/async/internal/slice.js:3:1\\n    at g.n.emit (/tmp/.mount_ganachrwhBTn/app/resources/app.asar/node_modules/ganache-cli/build/webpack:/ganache/node_modules/async-eventemitter/lib/AsyncEventEmitter.js:58:1)\\n    at /tmp/.mount_ganachrwhBTn/app/resources/app.asar/node_modules/ganache-cli/build/webpack:/ganache/node_modules/ethereumjs-vm/lib/runBlock.js:3:1\\n    at /tmp/.mount_ganachrwhBTn/app/resources/app.asar/node_modules/ganache-cli/build/webpack:/ganache/node_modules/async/dist/async.js:3947:1\\n    at o (/tmp/.mount_ganachrwhBTn/app/resources/app.asar/node_modules/ganache-cli/build/webpack:/ganache/node_modules/async/dist/async.js:1031:1)\\n    at f (/tmp/.mount_ganachrwhBTn/app/resources/app.asar/node_modules/ganache-cli/build/webpack:/ganache/node_modules/async/dist/async.js:998:1)\\n    at /tmp/.mount_ganachrwhBTn/app/resources/app.asar/node_modules/ganache-cli/build/webpack:/ganache/node_modules/async/dist/async.js:966:1\\n    at /tmp/.mount_ganachrwhBTn/app/resources/app.asar/node_modules/ganache-cli/build/webpack:/ganache/node_modules/async/dist/async.js:4079:1\\n    at /tmp/.mount_ganachrwhBTn/app/resources/app.asar/node_modules/ganache-cli/build/webpack:/ganache/node_modules/ethereumjs-vm/lib/runBlock.js:1:1\\n    at /tmp/.mount_ganachrwhBTn/app/resources/app.asar/node_modules/ganache-cli/build/webpack:/ganache/node_modules/ethereumjs-vm/lib/cache.js:117:1\\n    at /tmp/.mount_ganachrwhBTn/app/resources/app.asar/node_modules/ganache-cli/build/webpack:/ganache/node_modules/async/dist/async.js:480:1\\n    at o (/tmp/.mount_ganachrwhBTn/app/resources/app.asar/node_modules/ganache-cli/build/webpack:/ganache/node_modules/async/dist/async.js:1030:1)\\n    at /tmp/.mount_ganachrwhBTn/app/resources/app.asar/node_modules/ganache-cli/build/webpack:/ganache/node_modules/async/dist/async.js:1032:1\\n    at Ut (/tmp/.mount_ganachrwhBTn/app/resources/app.asar/node_modules/ganache-cli/build/webpack:/ganache/node_modules/async/dist/async.js:3245:1)\\n    at Object.<anonymous> (/tmp/.mount_ganachrwhBTn/app/resources/app.asar/node_modules/ganache-cli/build/webpack:/ganache/node_modules/async/dist/async.js:1049:10)\\n    at /tmp/.mount_ganachrwhBTn/app/resources/app.asar/node_modules/ganache-cli/build/webpack:/ganache/node_modules/ethereumjs-vm/lib/cache.js:113:1\\n    at /tmp/.mount_ganachrwhBTn/app/resources/app.asar/node_modules/ganache-cli/build/webpack:/ganache/node_modules/async/dist/async.js:966:1\\n    at c (/tmp/.mount_ganachrwhBTn/app/resources/app.asar/node_modules/ganache-cli/build/webpack:/ganache/node_modules/async/dist/async.js:5240:1)\\n    at /tmp/.mount_ganachrwhBTn/app/resources/app.asar/node_modules/ganache-cli/build/webpack:/ganache/node_modules/ethereumjs-vm/lib/cache.js:105:1\\n    at /tmp/.mount_ganachrwhBTn/app/resources/app.asar/node_modules/ganache-cli/build/webpack:/ganache/node_modules/merkle-patricia-tree/util.js:64:1\\n    at /tmp/.mount_ganachrwhBTn/app/resources/app.asar/node_modules/ganache-cli/build/webpack:/ganache/node_modules/merkle-patricia-tree/node_modules/async/lib/async.js:38:1', 'name': 'c'}}"
     ]
    }
   ],
   "source": [
    "msg = w3.soliditySha3([\"uint256\", \"uint256\", \"uint256\"], [4, int(acc, 16), 4])\n",
    "signature = w3.eth.sign(acc, msg)\n",
    "\n",
    "signature = signature.hex()\n",
    "\n",
    "r = signature[:66]\n",
    "s = '0x' + signature[66:130]\n",
    "v = '0x' + signature[130:132]\n",
    "v = int(v, 16)\n",
    "v = v if v in [27, 28] else v + 27\n",
    "\n",
    "r,s,v\n",
    "\n",
    "st.contract.functions.verify_receipt(4, acc, 4, v, r, s).call()"
   ]
  },
  {
   "cell_type": "code",
   "execution_count": 261,
   "metadata": {},
   "outputs": [],
   "source": [
    "from collections import namedtuple"
   ]
  },
  {
   "cell_type": "code",
   "execution_count": null,
   "metadata": {
    "collapsed": true
   },
   "outputs": [],
   "source": [
    "namedtuple()"
   ]
  }
 ],
 "metadata": {
  "kernelspec": {
   "display_name": "Python 3",
   "language": "python",
   "name": "python3"
  },
  "language_info": {
   "codemirror_mode": {
    "name": "ipython",
    "version": 3
   },
   "file_extension": ".py",
   "mimetype": "text/x-python",
   "name": "python",
   "nbconvert_exporter": "python",
   "pygments_lexer": "ipython3",
   "version": "3.6.1"
  }
 },
 "nbformat": 4,
 "nbformat_minor": 2
}
