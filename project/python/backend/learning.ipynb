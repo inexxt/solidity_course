{
 "cells": [
  {
   "cell_type": "code",
   "execution_count": 1,
   "metadata": {
    "collapsed": true
   },
   "outputs": [],
   "source": [
    "from web3 import Web3\n",
    "import json"
   ]
  },
  {
   "cell_type": "code",
   "execution_count": 2,
   "metadata": {
    "collapsed": true
   },
   "outputs": [],
   "source": [
    "w3 = Web3(Web3.HTTPProvider(\"http://127.0.0.1:7545\"))"
   ]
  },
  {
   "cell_type": "code",
   "execution_count": 3,
   "metadata": {},
   "outputs": [
    {
     "data": {
      "text/plain": [
       "6"
      ]
     },
     "execution_count": 3,
     "metadata": {},
     "output_type": "execute_result"
    }
   ],
   "source": [
    "w3.eth.blockNumber"
   ]
  },
  {
   "cell_type": "code",
   "execution_count": 4,
   "metadata": {
    "collapsed": true
   },
   "outputs": [],
   "source": [
    "c = lambda x: w3.toChecksumAddress(x)"
   ]
  },
  {
   "cell_type": "code",
   "execution_count": 5,
   "metadata": {
    "collapsed": true
   },
   "outputs": [],
   "source": [
    "address = w3.toChecksumAddress(\"0x9a9ed333eac0ed9705a814e69471701d1f43d9fe\")"
   ]
  },
  {
   "cell_type": "code",
   "execution_count": 6,
   "metadata": {
    "collapsed": true
   },
   "outputs": [],
   "source": [
    "from solc import compile_source\n",
    "from web3.contract import ConciseContract"
   ]
  },
  {
   "cell_type": "code",
   "execution_count": 9,
   "metadata": {},
   "outputs": [],
   "source": [
    "# Solidity source code\n",
    "with open(\"../../truffle/build/contracts/StateChannel.json\", \"r\") as f:\n",
    "    contract_abi = json.load(f)[\"abi\"]"
   ]
  },
  {
   "cell_type": "code",
   "execution_count": 10,
   "metadata": {
    "collapsed": true
   },
   "outputs": [],
   "source": [
    "cnt = w3.eth.contract(address=address, abi=contract_abi)"
   ]
  },
  {
   "cell_type": "code",
   "execution_count": 11,
   "metadata": {},
   "outputs": [],
   "source": [
    "owner = c(cnt.functions.owner().call())"
   ]
  },
  {
   "cell_type": "code",
   "execution_count": 12,
   "metadata": {
    "collapsed": true
   },
   "outputs": [],
   "source": [
    "cnt.functions.accepting_new_channels().call()\n",
    "\n",
    "transact_params = {\"from\": owner}\n",
    "\n",
    "fs = cnt.transact(transact_params).changeAcceptanceStatus(False)"
   ]
  },
  {
   "cell_type": "code",
   "execution_count": 13,
   "metadata": {},
   "outputs": [
    {
     "data": {
      "text/plain": [
       "AttributeDict({'blockHash': HexBytes('0x1912273bde52fbbfbff55a6483b592e35c107c562aa0da37fab1bdc4e7c88003'),\n",
       " 'blockNumber': 7,\n",
       " 'contractAddress': None,\n",
       " 'cumulativeGasUsed': 27212,\n",
       " 'gasUsed': 27212,\n",
       " 'logs': [],\n",
       " 'logsBloom': HexBytes('0x00000000000000000000000000000000000000000000000000000000000000000000000000000000000000000000000000000000000000000000000000000000000000000000000000000000000000000000000000000000000000000000000000000000000000000000000000000000000000000000000000000000000000000000000000000000000000000000000000000000000000000000000000000000000000000000000000000000000000000000000000000000000000000000000000000000000000000000000000000000000000000000000000000000000000000000000000000000000000000000000000000000000000000000000000000000'),\n",
       " 'status': 1,\n",
       " 'transactionHash': HexBytes('0x2a76e515ea3910079dbf2f4b88e5ec9d7df384f9826e14297c4552f4f0119b7d'),\n",
       " 'transactionIndex': 0})"
      ]
     },
     "execution_count": 13,
     "metadata": {},
     "output_type": "execute_result"
    }
   ],
   "source": [
    "w3.eth.waitForTransactionReceipt(fs)"
   ]
  },
  {
   "cell_type": "code",
   "execution_count": 14,
   "metadata": {},
   "outputs": [
    {
     "data": {
      "text/plain": [
       "False"
      ]
     },
     "execution_count": 14,
     "metadata": {},
     "output_type": "execute_result"
    }
   ],
   "source": [
    "cnt.functions.accepting_new_channels().call()"
   ]
  },
  {
   "cell_type": "code",
   "execution_count": 15,
   "metadata": {},
   "outputs": [
    {
     "data": {
      "text/plain": [
       "('0xb2042d4cb731657d76e75d14adfe9c84f7697023625cc884eae9d8cd8d8b5fc5',\n",
       " '0x7dcaabdfaa034d1b87cf42669533dee0d28d6155747737834841b6490d4acf1f',\n",
       " 28)"
      ]
     },
     "execution_count": 15,
     "metadata": {},
     "output_type": "execute_result"
    }
   ],
   "source": [
    "msg = w3.sha3(text=\"Hello\")\n",
    "signature = w3.eth.sign(owner, msg)\n",
    "\n",
    "signature = signature.hex()\n",
    "\n",
    "r = signature[:66]\n",
    "s = '0x' + signature[66:130]\n",
    "v = '0x' + signature[130:132]\n",
    "v = int(v, 16)\n",
    "v = v if v in [27, 28] else v + 27\n",
    "\n",
    "r,s,v"
   ]
  },
  {
   "cell_type": "code",
   "execution_count": 18,
   "metadata": {},
   "outputs": [
    {
     "data": {
      "text/plain": [
       "['0xd1687a6295283061450ac168f5C03e309BB9CDc4',\n",
       " '0xE58ea859e7DE7EaB1328A730CB397d9597F5aDC6',\n",
       " '0xbE72827E14f5B4C643A99c350D5842254b48E49b',\n",
       " '0x8629072578e020816EdeaB88BF1B17614B8eEAfa',\n",
       " '0x62468469D0b487301B6bA250Ca9fC57403104c1d',\n",
       " '0x4BBc60396Af5BabCFC59AA36209Fff06B8BD0d8a',\n",
       " '0xD2b36a08569cc94BA535821327D747DE4DB4f024',\n",
       " '0xa145721c142Edf54b9c475728347D00878009186',\n",
       " '0xBaCC6458029d29f7a04aAA48530013eFa11c7D39',\n",
       " '0x802edcc41Cce931045A3A34195c65C41215E09Bd']"
      ]
     },
     "execution_count": 18,
     "metadata": {},
     "output_type": "execute_result"
    }
   ],
   "source": [
    "accs  =w3.eth.accounts"
   ]
  },
  {
   "cell_type": "code",
   "execution_count": null,
   "metadata": {
    "collapsed": true
   },
   "outputs": [],
   "source": []
  }
 ],
 "metadata": {
  "kernelspec": {
   "display_name": "Python 3",
   "language": "python",
   "name": "python3"
  },
  "language_info": {
   "codemirror_mode": {
    "name": "ipython",
    "version": 3
   },
   "file_extension": ".py",
   "mimetype": "text/x-python",
   "name": "python",
   "nbconvert_exporter": "python",
   "pygments_lexer": "ipython3",
   "version": "3.6.1"
  }
 },
 "nbformat": 4,
 "nbformat_minor": 2
}
